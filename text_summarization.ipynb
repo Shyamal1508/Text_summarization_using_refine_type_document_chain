{
 "cells": [
  {
   "cell_type": "code",
   "execution_count": 15,
   "metadata": {},
   "outputs": [],
   "source": [
    "from langchain_community.document_loaders import PyPDFLoader\n",
    "from langchain.prompts import PromptTemplate\n",
    "from langchain_groq import ChatGroq\n",
    "from langchain.text_splitter import RecursiveCharacterTextSplitter"
   ]
  },
  {
   "cell_type": "code",
   "execution_count": 2,
   "metadata": {},
   "outputs": [
    {
     "name": "stdout",
     "output_type": "stream",
     "text": [
      "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\n"
     ]
    }
   ],
   "source": [
    "import os\n",
    "GROQ_API_KEY=os.getenv(\"GROQ_API_KEY\")\n",
    "print(GROQ_API_KEY)"
   ]
  },
  {
   "cell_type": "code",
   "execution_count": 1,
   "metadata": {},
   "outputs": [],
   "source": [
    "import os\n",
    "import os\n",
    "from langchain_groq import ChatGroq\n",
    "\n",
    "groq_api_key = os.getenv(\"groq_api_key\")\n",
    "\n",
    "llm = ChatGroq(groq_api_key=groq_api_key, model=\"Gemma2-9b-It\")\n"
   ]
  },
  {
   "cell_type": "code",
   "execution_count": 5,
   "metadata": {},
   "outputs": [],
   "source": [
    "loader=PyPDFLoader(\"Chandragupta.pdf\")\n",
    "pages=loader.load_and_split()"
   ]
  },
  {
   "cell_type": "code",
   "execution_count": 6,
   "metadata": {},
   "outputs": [
    {
     "data": {
      "text/plain": [
       "[Document(metadata={'source': 'Chandragupta.pdf', 'page': 0}, page_content='• Chandragupta’s origins are shrouded in mystery. The Greek sources (which are the oldest) \\nmention him to be of non-warrior lineage. The Hindu sources also say he was a student of \\nKautilya of humble birth (probably born to a Shudra woman). Most Buddhist sources say he \\nwas a Kshatriya. \\n• It is generally accepted that he was an orphaned boy born into a humble family who was \\ntrained by Kautilya. \\n• Greek accounts mention him as Sandrokottos. \\n• Alexander had abandoned his India conquest in 324 BC and within a year, Chandragupta had \\ndefeated some of the Greek-ruled cities in the north-western part of the country. \\n• Kautilya provided the strategy while Chandragupta executed it. They had raised a mercenary \\narmy of their own. \\n• Then, they moved eastward into Magadha. \\n• In a series of battles, he defeated Dhana Nanda and laid the foundations of the Maurya \\nEmpire in about 321 BC. \\n• In 305 BC, he entered into a treaty with Seleucus Nicator in which Chandragupta acquired \\nBaluchistan, eastern Afghanistan and the region to the west of Indus. He also married \\nSeleucus Nicator’s daughter. In return, Seleucus Nicator got 500 elephants. Seleucus Nicator \\navoided a full-scale war with the mighty Chandragupta and in return got war assets that \\nwould lead him to victory against his rivals in the Battle of Ipsus, fought in 301 BC \\n• Megasthenes was the Greek ambassador at Chandragupta’s court. \\n• Chandragupta led a policy of expansion and brought under one control almost the whole of \\npresent India barring a few places like Kalinga and the extreme South. \\n• His reign lasted from 321 BC to 297 BC. \\n• He abdicated the throne in favour of his son, Bindusara, and went to Karnataka with Jain \\nmonk Bhadrabahu. He had embraced Jainism and is said to have starved himself to death \\naccording to the Jain tradition at Shravanabelagola. \\nSecond Ruler of the Mauryan Empire – Bindusara \\n• Son of Chandragupta. \\n• He ruled from 297 BC to 273 BC. \\n• Also called Amitraghata (Slayer of foes) or Amitrochates in Greek sources. \\n• Deimachus was a Greek ambassador at his court. \\n• He had appointed his son, Ashoka as the governor of Ujjain. \\n• Bindusara is believed to have extended the Mauryan Empire to Mysore as well. \\nChanakya \\n• Teacher of Chandragupta Maurya, who was also his Chief Minister. \\n•  He was a teacher and scholar at Taxila. Other names are Vishnugupta and Kautilya.'),\n",
       " Document(metadata={'source': 'Chandragupta.pdf', 'page': 1}, page_content='• He was also a minister in the court of Bindusara. \\n• He is credited to be the master strategist behind the usurping of the Nanda throne and the \\nrise of the Mauryan Empire through his student, Chandragupta. \\n• He wrote Arthashastra which is a treatise on statecraft, economics, and military strategy. \\n• Arthashastra was rediscovered by R Shamasastry in 1905 after it had disappeared in the \\n12th century. \\n• The work contains 15 books and 180 chapters. The main theme is divided into: \\ni. King, Council of Ministers and Departments of the Government \\nii. Civil and criminal law \\niii. Diplomacy of war \\n• It also contains information on trade and markets, a method to screen ministers, spies, \\nduties of a king, ethics, social welfare, agriculture, mining, metallurgy, medicine, forests, etc. \\n• Chanakya is also called ‘Indian Machiavelli”.')]"
      ]
     },
     "execution_count": 6,
     "metadata": {},
     "output_type": "execute_result"
    }
   ],
   "source": [
    "pages"
   ]
  },
  {
   "cell_type": "code",
   "execution_count": 7,
   "metadata": {},
   "outputs": [],
   "source": [
    "template=\"\"\"Write a concise and short  summary of the following speech,\n",
    "            speech:{text}\n",
    "            \"\"\""
   ]
  },
  {
   "cell_type": "code",
   "execution_count": 8,
   "metadata": {},
   "outputs": [],
   "source": [
    "prompt=PromptTemplate(input_variables=['text'],template=template)"
   ]
  },
  {
   "cell_type": "code",
   "execution_count": 9,
   "metadata": {},
   "outputs": [],
   "source": [
    "from langchain.chains.summarize import load_summarize_chain\n",
    "chain=load_summarize_chain(llm,chain_type=\"stuff\",prompt=prompt,verbose=True)"
   ]
  },
  {
   "cell_type": "code",
   "execution_count": 10,
   "metadata": {},
   "outputs": [
    {
     "data": {
      "text/plain": [
       "StuffDocumentsChain(verbose=True, llm_chain=LLMChain(verbose=True, prompt=PromptTemplate(input_variables=['text'], input_types={}, partial_variables={}, template='Write a concise and short  summary of the following speech,\\n            speech:{text}\\n            '), llm=ChatGroq(client=<groq.resources.chat.completions.Completions object at 0x0000015887EB77F0>, async_client=<groq.resources.chat.completions.AsyncCompletions object at 0x0000015887EEC400>, model_name='Gemma2-9b-It', model_kwargs={}, groq_api_key=SecretStr('**********')), output_parser=StrOutputParser(), llm_kwargs={}), document_prompt=PromptTemplate(input_variables=['page_content'], input_types={}, partial_variables={}, template='{page_content}'), document_variable_name='text')"
      ]
     },
     "execution_count": 10,
     "metadata": {},
     "output_type": "execute_result"
    }
   ],
   "source": [
    "chain"
   ]
  },
  {
   "cell_type": "code",
   "execution_count": 11,
   "metadata": {},
   "outputs": [
    {
     "name": "stderr",
     "output_type": "stream",
     "text": [
      "C:\\Users\\shiva\\AppData\\Local\\Temp\\ipykernel_29536\\3949827916.py:1: LangChainDeprecationWarning: The method `Chain.run` was deprecated in langchain 0.1.0 and will be removed in 1.0. Use :meth:`~invoke` instead.\n",
      "  output_summary=chain.run(pages)\n"
     ]
    },
    {
     "name": "stdout",
     "output_type": "stream",
     "text": [
      "\n",
      "\n",
      "\u001b[1m> Entering new StuffDocumentsChain chain...\u001b[0m\n",
      "\n",
      "\n",
      "\u001b[1m> Entering new LLMChain chain...\u001b[0m\n",
      "Prompt after formatting:\n",
      "\u001b[32;1m\u001b[1;3mWrite a concise and short  summary of the following speech,\n",
      "            speech:• Chandragupta’s origins are shrouded in mystery. The Greek sources (which are the oldest) \n",
      "mention him to be of non-warrior lineage. The Hindu sources also say he was a student of \n",
      "Kautilya of humble birth (probably born to a Shudra woman). Most Buddhist sources say he \n",
      "was a Kshatriya. \n",
      "• It is generally accepted that he was an orphaned boy born into a humble family who was \n",
      "trained by Kautilya. \n",
      "• Greek accounts mention him as Sandrokottos. \n",
      "• Alexander had abandoned his India conquest in 324 BC and within a year, Chandragupta had \n",
      "defeated some of the Greek-ruled cities in the north-western part of the country. \n",
      "• Kautilya provided the strategy while Chandragupta executed it. They had raised a mercenary \n",
      "army of their own. \n",
      "• Then, they moved eastward into Magadha. \n",
      "• In a series of battles, he defeated Dhana Nanda and laid the foundations of the Maurya \n",
      "Empire in about 321 BC. \n",
      "• In 305 BC, he entered into a treaty with Seleucus Nicator in which Chandragupta acquired \n",
      "Baluchistan, eastern Afghanistan and the region to the west of Indus. He also married \n",
      "Seleucus Nicator’s daughter. In return, Seleucus Nicator got 500 elephants. Seleucus Nicator \n",
      "avoided a full-scale war with the mighty Chandragupta and in return got war assets that \n",
      "would lead him to victory against his rivals in the Battle of Ipsus, fought in 301 BC \n",
      "• Megasthenes was the Greek ambassador at Chandragupta’s court. \n",
      "• Chandragupta led a policy of expansion and brought under one control almost the whole of \n",
      "present India barring a few places like Kalinga and the extreme South. \n",
      "• His reign lasted from 321 BC to 297 BC. \n",
      "• He abdicated the throne in favour of his son, Bindusara, and went to Karnataka with Jain \n",
      "monk Bhadrabahu. He had embraced Jainism and is said to have starved himself to death \n",
      "according to the Jain tradition at Shravanabelagola. \n",
      "Second Ruler of the Mauryan Empire – Bindusara \n",
      "• Son of Chandragupta. \n",
      "• He ruled from 297 BC to 273 BC. \n",
      "• Also called Amitraghata (Slayer of foes) or Amitrochates in Greek sources. \n",
      "• Deimachus was a Greek ambassador at his court. \n",
      "• He had appointed his son, Ashoka as the governor of Ujjain. \n",
      "• Bindusara is believed to have extended the Mauryan Empire to Mysore as well. \n",
      "Chanakya \n",
      "• Teacher of Chandragupta Maurya, who was also his Chief Minister. \n",
      "•  He was a teacher and scholar at Taxila. Other names are Vishnugupta and Kautilya.\n",
      "\n",
      "• He was also a minister in the court of Bindusara. \n",
      "• He is credited to be the master strategist behind the usurping of the Nanda throne and the \n",
      "rise of the Mauryan Empire through his student, Chandragupta. \n",
      "• He wrote Arthashastra which is a treatise on statecraft, economics, and military strategy. \n",
      "• Arthashastra was rediscovered by R Shamasastry in 1905 after it had disappeared in the \n",
      "12th century. \n",
      "• The work contains 15 books and 180 chapters. The main theme is divided into: \n",
      "i. King, Council of Ministers and Departments of the Government \n",
      "ii. Civil and criminal law \n",
      "iii. Diplomacy of war \n",
      "• It also contains information on trade and markets, a method to screen ministers, spies, \n",
      "duties of a king, ethics, social welfare, agriculture, mining, metallurgy, medicine, forests, etc. \n",
      "• Chanakya is also called ‘Indian Machiavelli”.\n",
      "            \u001b[0m\n",
      "\n",
      "\u001b[1m> Finished chain.\u001b[0m\n",
      "\n",
      "\u001b[1m> Finished chain.\u001b[0m\n"
     ]
    }
   ],
   "source": [
    "output_summary=chain.run(pages)"
   ]
  },
  {
   "cell_type": "code",
   "execution_count": 12,
   "metadata": {},
   "outputs": [],
   "source": [
    "from langchain.text_splitter import RecursiveCharacterTextSplitter"
   ]
  },
  {
   "cell_type": "code",
   "execution_count": 14,
   "metadata": {},
   "outputs": [
    {
     "data": {
      "text/plain": [
       "[Document(metadata={'source': 'Chandragupta.pdf', 'page': 0}, page_content='• Chandragupta’s origins are shrouded in mystery. The Greek sources (which are the oldest) \\nmention him to be of non-warrior lineage. The Hindu sources also say he was a student of \\nKautilya of humble birth (probably born to a Shudra woman). Most Buddhist sources say he \\nwas a Kshatriya. \\n• It is generally accepted that he was an orphaned boy born into a humble family who was \\ntrained by Kautilya. \\n• Greek accounts mention him as Sandrokottos. \\n• Alexander had abandoned his India conquest in 324 BC and within a year, Chandragupta had \\ndefeated some of the Greek-ruled cities in the north-western part of the country. \\n• Kautilya provided the strategy while Chandragupta executed it. They had raised a mercenary \\narmy of their own. \\n• Then, they moved eastward into Magadha. \\n• In a series of battles, he defeated Dhana Nanda and laid the foundations of the Maurya \\nEmpire in about 321 BC. \\n• In 305 BC, he entered into a treaty with Seleucus Nicator in which Chandragupta acquired \\nBaluchistan, eastern Afghanistan and the region to the west of Indus. He also married \\nSeleucus Nicator’s daughter. In return, Seleucus Nicator got 500 elephants. Seleucus Nicator \\navoided a full-scale war with the mighty Chandragupta and in return got war assets that \\nwould lead him to victory against his rivals in the Battle of Ipsus, fought in 301 BC \\n• Megasthenes was the Greek ambassador at Chandragupta’s court. \\n• Chandragupta led a policy of expansion and brought under one control almost the whole of \\npresent India barring a few places like Kalinga and the extreme South. \\n• His reign lasted from 321 BC to 297 BC. \\n• He abdicated the throne in favour of his son, Bindusara, and went to Karnataka with Jain \\nmonk Bhadrabahu. He had embraced Jainism and is said to have starved himself to death \\naccording to the Jain tradition at Shravanabelagola. \\nSecond Ruler of the Mauryan Empire – Bindusara \\n• Son of Chandragupta. \\n• He ruled from 297 BC to 273 BC. \\n• Also called Amitraghata (Slayer of foes) or Amitrochates in Greek sources. \\n• Deimachus was a Greek ambassador at his court. \\n• He had appointed his son, Ashoka as the governor of Ujjain. \\n• Bindusara is believed to have extended the Mauryan Empire to Mysore as well. \\nChanakya \\n• Teacher of Chandragupta Maurya, who was also his Chief Minister. \\n•  He was a teacher and scholar at Taxila. Other names are Vishnugupta and Kautilya.'),\n",
       " Document(metadata={'source': 'Chandragupta.pdf', 'page': 1}, page_content='• He was also a minister in the court of Bindusara. \\n• He is credited to be the master strategist behind the usurping of the Nanda throne and the \\nrise of the Mauryan Empire through his student, Chandragupta. \\n• He wrote Arthashastra which is a treatise on statecraft, economics, and military strategy. \\n• Arthashastra was rediscovered by R Shamasastry in 1905 after it had disappeared in the \\n12th century. \\n• The work contains 15 books and 180 chapters. The main theme is divided into: \\ni. King, Council of Ministers and Departments of the Government \\nii. Civil and criminal law \\niii. Diplomacy of war \\n• It also contains information on trade and markets, a method to screen ministers, spies, \\nduties of a king, ethics, social welfare, agriculture, mining, metallurgy, medicine, forests, etc. \\n• Chanakya is also called ‘Indian Machiavelli”.')]"
      ]
     },
     "execution_count": 14,
     "metadata": {},
     "output_type": "execute_result"
    }
   ],
   "source": [
    "pages"
   ]
  },
  {
   "cell_type": "code",
   "execution_count": 17,
   "metadata": {},
   "outputs": [],
   "source": [
    "text_splitter=RecursiveCharacterTextSplitter(chunk_size=2000,chunk_overlap=100).split_documents(pages)"
   ]
  },
  {
   "cell_type": "code",
   "execution_count": 18,
   "metadata": {},
   "outputs": [
    {
     "data": {
      "text/plain": [
       "[Document(metadata={'source': 'Chandragupta.pdf', 'page': 0}, page_content='• Chandragupta’s origins are shrouded in mystery. The Greek sources (which are the oldest) \\nmention him to be of non-warrior lineage. The Hindu sources also say he was a student of \\nKautilya of humble birth (probably born to a Shudra woman). Most Buddhist sources say he \\nwas a Kshatriya. \\n• It is generally accepted that he was an orphaned boy born into a humble family who was \\ntrained by Kautilya. \\n• Greek accounts mention him as Sandrokottos. \\n• Alexander had abandoned his India conquest in 324 BC and within a year, Chandragupta had \\ndefeated some of the Greek-ruled cities in the north-western part of the country. \\n• Kautilya provided the strategy while Chandragupta executed it. They had raised a mercenary \\narmy of their own. \\n• Then, they moved eastward into Magadha. \\n• In a series of battles, he defeated Dhana Nanda and laid the foundations of the Maurya \\nEmpire in about 321 BC. \\n• In 305 BC, he entered into a treaty with Seleucus Nicator in which Chandragupta acquired \\nBaluchistan, eastern Afghanistan and the region to the west of Indus. He also married \\nSeleucus Nicator’s daughter. In return, Seleucus Nicator got 500 elephants. Seleucus Nicator \\navoided a full-scale war with the mighty Chandragupta and in return got war assets that \\nwould lead him to victory against his rivals in the Battle of Ipsus, fought in 301 BC \\n• Megasthenes was the Greek ambassador at Chandragupta’s court. \\n• Chandragupta led a policy of expansion and brought under one control almost the whole of \\npresent India barring a few places like Kalinga and the extreme South. \\n• His reign lasted from 321 BC to 297 BC. \\n• He abdicated the throne in favour of his son, Bindusara, and went to Karnataka with Jain \\nmonk Bhadrabahu. He had embraced Jainism and is said to have starved himself to death \\naccording to the Jain tradition at Shravanabelagola. \\nSecond Ruler of the Mauryan Empire – Bindusara \\n• Son of Chandragupta. \\n• He ruled from 297 BC to 273 BC.'),\n",
       " Document(metadata={'source': 'Chandragupta.pdf', 'page': 0}, page_content='• Son of Chandragupta. \\n• He ruled from 297 BC to 273 BC. \\n• Also called Amitraghata (Slayer of foes) or Amitrochates in Greek sources. \\n• Deimachus was a Greek ambassador at his court. \\n• He had appointed his son, Ashoka as the governor of Ujjain. \\n• Bindusara is believed to have extended the Mauryan Empire to Mysore as well. \\nChanakya \\n• Teacher of Chandragupta Maurya, who was also his Chief Minister. \\n•  He was a teacher and scholar at Taxila. Other names are Vishnugupta and Kautilya.'),\n",
       " Document(metadata={'source': 'Chandragupta.pdf', 'page': 1}, page_content='• He was also a minister in the court of Bindusara. \\n• He is credited to be the master strategist behind the usurping of the Nanda throne and the \\nrise of the Mauryan Empire through his student, Chandragupta. \\n• He wrote Arthashastra which is a treatise on statecraft, economics, and military strategy. \\n• Arthashastra was rediscovered by R Shamasastry in 1905 after it had disappeared in the \\n12th century. \\n• The work contains 15 books and 180 chapters. The main theme is divided into: \\ni. King, Council of Ministers and Departments of the Government \\nii. Civil and criminal law \\niii. Diplomacy of war \\n• It also contains information on trade and markets, a method to screen ministers, spies, \\nduties of a king, ethics, social welfare, agriculture, mining, metallurgy, medicine, forests, etc. \\n• Chanakya is also called ‘Indian Machiavelli”.')]"
      ]
     },
     "execution_count": 18,
     "metadata": {},
     "output_type": "execute_result"
    }
   ],
   "source": [
    "text_splitter"
   ]
  },
  {
   "cell_type": "code",
   "execution_count": 19,
   "metadata": {},
   "outputs": [],
   "source": [
    "chunk_prompts=\"\"\"\n",
    "                 Please summarize the below speech :\n",
    "                 speech:'{text}'\n",
    "                 Summary \"\"\"\n",
    "map_prompt_template=PromptTemplate(input_variables=['text'],\n",
    "                                    template=chunk_prompts)"
   ]
  },
  {
   "cell_type": "code",
   "execution_count": 20,
   "metadata": {},
   "outputs": [],
   "source": [
    "summary_chain=load_summarize_chain(llm=llm,\n",
    "                                   chain_type=\"map_reduce\",\n",
    "                                   map_prompt=map_prompt_template)"
   ]
  },
  {
   "cell_type": "code",
   "execution_count": 21,
   "metadata": {},
   "outputs": [],
   "source": [
    "final_prompt='''Provide the final summary of the entire speech with these important topics.Add a motivate title,start the precise summary with an introduction and provide the summary in number points for the speech.speech:{text}'''"
   ]
  },
  {
   "cell_type": "code",
   "execution_count": 22,
   "metadata": {},
   "outputs": [],
   "source": [
    "final_prompt_template=PromptTemplate(input_variables=['text'],template=final_prompt)"
   ]
  },
  {
   "cell_type": "code",
   "execution_count": 24,
   "metadata": {},
   "outputs": [
    {
     "data": {
      "text/plain": [
       "PromptTemplate(input_variables=['text'], input_types={}, partial_variables={}, template='Provide the final summary of the entire speech with these important topics.Add a motivate title,start the precise summary with an introduction and provide the summary in number points for the speech.speech:{text}')"
      ]
     },
     "execution_count": 24,
     "metadata": {},
     "output_type": "execute_result"
    }
   ],
   "source": [
    "final_prompt_template"
   ]
  },
  {
   "cell_type": "code",
   "execution_count": 4,
   "metadata": {},
   "outputs": [
    {
     "name": "stdout",
     "output_type": "stream",
     "text": [
      "Collecting pypdf\n",
      "  Downloading pypdf-5.3.1-py3-none-any.whl (302 kB)\n",
      "                                              0.0/302.0 kB ? eta -:--:--\n",
      "     -----------                             92.2/302.0 kB 1.7 MB/s eta 0:00:01\n",
      "     -------------------------              204.8/302.0 kB 2.5 MB/s eta 0:00:01\n",
      "     -------------------------------------- 302.0/302.0 kB 2.7 MB/s eta 0:00:00\n",
      "Requirement already satisfied: typing_extensions>=4.0 in c:\\users\\shiva\\appdata\\local\\packages\\pythonsoftwarefoundation.python.3.10_qbz5n2kfra8p0\\localcache\\local-packages\\python310\\site-packages (from pypdf) (4.12.2)\n",
      "Installing collected packages: pypdf\n",
      "Successfully installed pypdf-5.3.1\n"
     ]
    },
    {
     "name": "stderr",
     "output_type": "stream",
     "text": [
      "\n",
      "[notice] A new release of pip is available: 23.1.2 -> 25.0.1\n",
      "[notice] To update, run: C:\\Users\\shiva\\AppData\\Local\\Microsoft\\WindowsApps\\PythonSoftwareFoundation.Python.3.10_qbz5n2kfra8p0\\python.exe -m pip install --upgrade pip\n"
     ]
    }
   ],
   "source": [
    "\n",
    "!pip install pypdf"
   ]
  },
  {
   "cell_type": "code",
   "execution_count": 26,
   "metadata": {},
   "outputs": [],
   "source": [
    "summary_chain=load_summarize_chain(llm=llm,\n",
    "                                   chain_type=\"map_reduce\",\n",
    "                                   map_prompt=map_prompt_template,\n",
    "                                   combine_prompt=final_prompt_template,\n",
    "                                   verbose=True\n",
    "                                   )"
   ]
  },
  {
   "cell_type": "code",
   "execution_count": 27,
   "metadata": {},
   "outputs": [
    {
     "name": "stdout",
     "output_type": "stream",
     "text": [
      "\n",
      "\n",
      "\u001b[1m> Entering new MapReduceDocumentsChain chain...\u001b[0m\n",
      "\n",
      "\n",
      "\u001b[1m> Entering new LLMChain chain...\u001b[0m\n",
      "Prompt after formatting:\n",
      "\u001b[32;1m\u001b[1;3m\n",
      "                 Please summarize the below speech :\n",
      "                 speech:'• Chandragupta’s origins are shrouded in mystery. The Greek sources (which are the oldest) \n",
      "mention him to be of non-warrior lineage. The Hindu sources also say he was a student of \n",
      "Kautilya of humble birth (probably born to a Shudra woman). Most Buddhist sources say he \n",
      "was a Kshatriya. \n",
      "• It is generally accepted that he was an orphaned boy born into a humble family who was \n",
      "trained by Kautilya. \n",
      "• Greek accounts mention him as Sandrokottos. \n",
      "• Alexander had abandoned his India conquest in 324 BC and within a year, Chandragupta had \n",
      "defeated some of the Greek-ruled cities in the north-western part of the country. \n",
      "• Kautilya provided the strategy while Chandragupta executed it. They had raised a mercenary \n",
      "army of their own. \n",
      "• Then, they moved eastward into Magadha. \n",
      "• In a series of battles, he defeated Dhana Nanda and laid the foundations of the Maurya \n",
      "Empire in about 321 BC. \n",
      "• In 305 BC, he entered into a treaty with Seleucus Nicator in which Chandragupta acquired \n",
      "Baluchistan, eastern Afghanistan and the region to the west of Indus. He also married \n",
      "Seleucus Nicator’s daughter. In return, Seleucus Nicator got 500 elephants. Seleucus Nicator \n",
      "avoided a full-scale war with the mighty Chandragupta and in return got war assets that \n",
      "would lead him to victory against his rivals in the Battle of Ipsus, fought in 301 BC \n",
      "• Megasthenes was the Greek ambassador at Chandragupta’s court. \n",
      "• Chandragupta led a policy of expansion and brought under one control almost the whole of \n",
      "present India barring a few places like Kalinga and the extreme South. \n",
      "• His reign lasted from 321 BC to 297 BC. \n",
      "• He abdicated the throne in favour of his son, Bindusara, and went to Karnataka with Jain \n",
      "monk Bhadrabahu. He had embraced Jainism and is said to have starved himself to death \n",
      "according to the Jain tradition at Shravanabelagola. \n",
      "Second Ruler of the Mauryan Empire – Bindusara \n",
      "• Son of Chandragupta. \n",
      "• He ruled from 297 BC to 273 BC. \n",
      "• Also called Amitraghata (Slayer of foes) or Amitrochates in Greek sources. \n",
      "• Deimachus was a Greek ambassador at his court. \n",
      "• He had appointed his son, Ashoka as the governor of Ujjain. \n",
      "• Bindusara is believed to have extended the Mauryan Empire to Mysore as well. \n",
      "Chanakya \n",
      "• Teacher of Chandragupta Maurya, who was also his Chief Minister. \n",
      "•  He was a teacher and scholar at Taxila. Other names are Vishnugupta and Kautilya.'\n",
      "                 Summary \u001b[0m\n",
      "Prompt after formatting:\n",
      "\u001b[32;1m\u001b[1;3m\n",
      "                 Please summarize the below speech :\n",
      "                 speech:'• He was also a minister in the court of Bindusara. \n",
      "• He is credited to be the master strategist behind the usurping of the Nanda throne and the \n",
      "rise of the Mauryan Empire through his student, Chandragupta. \n",
      "• He wrote Arthashastra which is a treatise on statecraft, economics, and military strategy. \n",
      "• Arthashastra was rediscovered by R Shamasastry in 1905 after it had disappeared in the \n",
      "12th century. \n",
      "• The work contains 15 books and 180 chapters. The main theme is divided into: \n",
      "i. King, Council of Ministers and Departments of the Government \n",
      "ii. Civil and criminal law \n",
      "iii. Diplomacy of war \n",
      "• It also contains information on trade and markets, a method to screen ministers, spies, \n",
      "duties of a king, ethics, social welfare, agriculture, mining, metallurgy, medicine, forests, etc. \n",
      "• Chanakya is also called ‘Indian Machiavelli”.'\n",
      "                 Summary \u001b[0m\n",
      "\n",
      "\u001b[1m> Finished chain.\u001b[0m\n",
      "\n",
      "\n",
      "\u001b[1m> Entering new LLMChain chain...\u001b[0m\n",
      "Prompt after formatting:\n",
      "\u001b[32;1m\u001b[1;3mProvide the final summary of the entire speech with these important topics.Add a motivate title,start the precise summary with an introduction and provide the summary in number points for the speech.speech:This speech provides a concise history of the early Mauryan Empire, focusing on its founders Chandragupta Maurya and Bindusara. \n",
      "\n",
      "**Chandragupta Maurya:**\n",
      "\n",
      "* Origins are debated, but he was likely from a humble background.\n",
      "* Trained by the philosopher-strategist Chanakya (Kautilya).\n",
      "* Defeated Greek rulers after Alexander's withdrawal, establishing the Mauryan Empire.\n",
      "* Secured his empire's western border through a treaty with Seleucus Nicator, gaining land and even marrying his daughter.\n",
      "* Expanded the empire significantly, encompassing most of present-day India.\n",
      "* Abdicated in favor of his son Bindusara and embraced Jainism, dying through fasting.\n",
      "\n",
      "**Bindusara:**\n",
      "\n",
      "* Chandragupta's son and successor.\n",
      "* Ruled from 297 to 273 BC.\n",
      "* Known as Amitraghata (Slayer of foes).\n",
      "* Further expanded the empire, possibly reaching Mysore.\n",
      "* Appointed his son Ashoka as governor of Ujjain.\n",
      "\n",
      "The speech highlights Chanakya's crucial role as Chandragupta's mentor and chief minister, shaping the empire's early success. It emphasizes Chandragupta's military prowess and strategic brilliance, while Bindusara's reign is portrayed as a period of consolidation and further expansion.\n",
      "\n",
      "\n",
      "\n",
      "\n",
      "The speech highlights the life and achievements of Chanakya, a renowned Indian scholar and advisor.  \n",
      "\n",
      "**Key points:**\n",
      "\n",
      "* **Master Strategist:** Chanakya was a key figure in the establishment of the Mauryan Empire, guiding his student Chandragupta to overthrow the Nanda dynasty.\n",
      "* **Author of Arthashastra:** He penned the influential treatise \"Arthashastra,\" rediscovered in the 20th century, which covers statecraft, economics, military strategy, law, diplomacy, and various aspects of societal organization.\n",
      "* **Comprehensive Work:** The Arthashastra, comprising 15 books and 180 chapters, offers insights into governance, law, warfare, trade, administration, ethics, and numerous other fields.\n",
      "* **\"Indian Machiavelli\":** Due to his pragmatic and strategic approach to governance, Chanakya is often compared to the Italian Renaissance thinker Niccolò Machiavelli. \n",
      "\n",
      "\n",
      "Essentially, the speech emphasizes Chanakya's enduring legacy as a brilliant strategist and a prolific writer whose work continues to influence political thought and practice. \n",
      "\u001b[0m\n",
      "\n",
      "\u001b[1m> Finished chain.\u001b[0m\n",
      "\n",
      "\u001b[1m> Finished chain.\u001b[0m\n"
     ]
    }
   ],
   "source": [
    "output=summary_chain.run(pages)"
   ]
  },
  {
   "cell_type": "code",
   "execution_count": 28,
   "metadata": {},
   "outputs": [
    {
     "data": {
      "text/plain": [
       "'##  The Architects of Empire: Chandragupta, Bindusara, and the Vision of Chanakya\\n\\nThis speech delves into the fascinating history of the early Mauryan Empire, highlighting the pivotal roles played by its founders, Chandragupta Maurya and Bindusara, and their esteemed mentor, Chanakya.  \\n\\n**Chandragupta Maurya: The Founder**\\n\\n1. **Humble Beginnings:** Chandragupta\\'s origins are shrouded in mystery, but he likely rose from a modest background. \\n2. **Chanakya\\'s Guidance:** Trained by the brilliant philosopher-strategist Chanakya (Kautilya), Chandragupta learned the art of statecraft and warfare.\\n3. **Conquest and Consolidation:** After Alexander the Great\\'s withdrawal, Chandragupta defeated the remaining Greek rulers, establishing the Mauryan Empire.\\n4. **Strategic Alliances:**  He secured the empire\\'s western borders through a treaty with Seleucus Nicator, gaining valuable land and even securing a marriage alliance.\\n5. **Expansion and Abdication:** Chandragupta\\'s military campaigns significantly expanded the empire\\'s territory, encompassing most of present-day India. He ultimately abdicated in favor of his son, Bindusara, and embraced Jainism, choosing to end his life through fasting.\\n\\n**Bindusara: The Consolidator**\\n\\n6. **Reign of Amitraghata:** Chandragupta\\'s son, Bindusara, ruled from 297 to 273 BC, earning the title \"Amitraghata\" (Slayer of Foes) for his military prowess.\\n7. **Further Expansion:** Bindusara continued his father\\'s expansionist policies, potentially extending the empire\\'s reach as far south as Mysore.\\n8. **Ashoka\\'s Rise:** He appointed his son Ashoka as governor of Ujjain, setting the stage for Ashoka\\'s future reign.\\n\\n\\n**The Enduring Legacy of Chanakya**\\n\\n9. **Master Strategist:** Chanakya\\'s brilliance as a strategist and advisor was instrumental in the Mauryan Empire\\'s founding and early success.\\n10. **Arthashastra:** His seminal work, \"Arthashastra,\" a comprehensive treatise on statecraft, economics, military strategy, and governance, continues to be studied and debated today.\\n11. **The \"Indian Machiavelli\":**  Chanakya\\'s pragmatic approach to governance and his focus on achieving political goals through calculated means have earned him comparisons to Niccolò Machiavelli.\\n\\n\\n\\nThrough the combined efforts of Chandragupta Maurya, Bindusara, and their visionary mentor Chanakya, the Mauryan Empire emerged as a powerful force in ancient India, leaving an enduring legacy on the Indian subcontinent. \\n'"
      ]
     },
     "execution_count": 28,
     "metadata": {},
     "output_type": "execute_result"
    }
   ],
   "source": [
    "output"
   ]
  },
  {
   "cell_type": "code",
   "execution_count": 29,
   "metadata": {},
   "outputs": [],
   "source": [
    "sumary_chain=load_summarize_chain(llm=llm,\n",
    "                                   chain_type=\"map_reduce\",\n",
    "                                   map_prompt=map_prompt_template,\n",
    "                                   combine_prompt=final_prompt_template,\n",
    "                                   verbose=True\n",
    "                                   )"
   ]
  },
  {
   "cell_type": "code",
   "execution_count": 31,
   "metadata": {},
   "outputs": [
    {
     "name": "stdout",
     "output_type": "stream",
     "text": [
      "\n",
      "\n",
      "\u001b[1m> Entering new MapReduceDocumentsChain chain...\u001b[0m\n",
      "\n",
      "\n",
      "\u001b[1m> Entering new LLMChain chain...\u001b[0m\n",
      "Prompt after formatting:\n",
      "\u001b[32;1m\u001b[1;3m\n",
      "                 Please summarize the below speech :\n",
      "                 speech:'• Chandragupta’s origins are shrouded in mystery. The Greek sources (which are the oldest) \n",
      "mention him to be of non-warrior lineage. The Hindu sources also say he was a student of \n",
      "Kautilya of humble birth (probably born to a Shudra woman). Most Buddhist sources say he \n",
      "was a Kshatriya. \n",
      "• It is generally accepted that he was an orphaned boy born into a humble family who was \n",
      "trained by Kautilya. \n",
      "• Greek accounts mention him as Sandrokottos. \n",
      "• Alexander had abandoned his India conquest in 324 BC and within a year, Chandragupta had \n",
      "defeated some of the Greek-ruled cities in the north-western part of the country. \n",
      "• Kautilya provided the strategy while Chandragupta executed it. They had raised a mercenary \n",
      "army of their own. \n",
      "• Then, they moved eastward into Magadha. \n",
      "• In a series of battles, he defeated Dhana Nanda and laid the foundations of the Maurya \n",
      "Empire in about 321 BC. \n",
      "• In 305 BC, he entered into a treaty with Seleucus Nicator in which Chandragupta acquired \n",
      "Baluchistan, eastern Afghanistan and the region to the west of Indus. He also married \n",
      "Seleucus Nicator’s daughter. In return, Seleucus Nicator got 500 elephants. Seleucus Nicator \n",
      "avoided a full-scale war with the mighty Chandragupta and in return got war assets that \n",
      "would lead him to victory against his rivals in the Battle of Ipsus, fought in 301 BC \n",
      "• Megasthenes was the Greek ambassador at Chandragupta’s court. \n",
      "• Chandragupta led a policy of expansion and brought under one control almost the whole of \n",
      "present India barring a few places like Kalinga and the extreme South. \n",
      "• His reign lasted from 321 BC to 297 BC. \n",
      "• He abdicated the throne in favour of his son, Bindusara, and went to Karnataka with Jain \n",
      "monk Bhadrabahu. He had embraced Jainism and is said to have starved himself to death \n",
      "according to the Jain tradition at Shravanabelagola. \n",
      "Second Ruler of the Mauryan Empire – Bindusara \n",
      "• Son of Chandragupta. \n",
      "• He ruled from 297 BC to 273 BC. \n",
      "• Also called Amitraghata (Slayer of foes) or Amitrochates in Greek sources. \n",
      "• Deimachus was a Greek ambassador at his court. \n",
      "• He had appointed his son, Ashoka as the governor of Ujjain. \n",
      "• Bindusara is believed to have extended the Mauryan Empire to Mysore as well. \n",
      "Chanakya \n",
      "• Teacher of Chandragupta Maurya, who was also his Chief Minister. \n",
      "•  He was a teacher and scholar at Taxila. Other names are Vishnugupta and Kautilya.'\n",
      "                 Summary \u001b[0m\n",
      "Prompt after formatting:\n",
      "\u001b[32;1m\u001b[1;3m\n",
      "                 Please summarize the below speech :\n",
      "                 speech:'• He was also a minister in the court of Bindusara. \n",
      "• He is credited to be the master strategist behind the usurping of the Nanda throne and the \n",
      "rise of the Mauryan Empire through his student, Chandragupta. \n",
      "• He wrote Arthashastra which is a treatise on statecraft, economics, and military strategy. \n",
      "• Arthashastra was rediscovered by R Shamasastry in 1905 after it had disappeared in the \n",
      "12th century. \n",
      "• The work contains 15 books and 180 chapters. The main theme is divided into: \n",
      "i. King, Council of Ministers and Departments of the Government \n",
      "ii. Civil and criminal law \n",
      "iii. Diplomacy of war \n",
      "• It also contains information on trade and markets, a method to screen ministers, spies, \n",
      "duties of a king, ethics, social welfare, agriculture, mining, metallurgy, medicine, forests, etc. \n",
      "• Chanakya is also called ‘Indian Machiavelli”.'\n",
      "                 Summary \u001b[0m\n",
      "\n",
      "\u001b[1m> Finished chain.\u001b[0m\n",
      "\n",
      "\n",
      "\u001b[1m> Entering new LLMChain chain...\u001b[0m\n",
      "Prompt after formatting:\n",
      "\u001b[32;1m\u001b[1;3mProvide the final summary of the entire speech with these important topics.Add a motivate title,start the precise summary with an introduction and provide the summary in number points for the speech.speech:This speech provides a brief biography of the first two rulers of the Mauryan Empire: Chandragupta Maurya and Bindusara.\n",
      "\n",
      "**Chandragupta Maurya (321 BC - 297 BC)**\n",
      "\n",
      "* **Origins:** Humble beginnings, possibly of Shudra caste, trained by the scholar Kautilya.\n",
      "* **Rise to Power:** Defeated Greek rulers after Alexander's withdrawal, established the Mauryan Empire by defeating Dhana Nanda. \n",
      "* **Expansion:** Extended the empire to encompass most of present-day India, securing a treaty with Seleucus Nicator in 305 BC, which brought him territories and elephants.\n",
      "* **Later Life:** Abdicated in favor of his son Bindusara, embraced Jainism, and died through self-starvation.\n",
      "\n",
      "**Bindusara (297 BC - 273 BC)**\n",
      "\n",
      "* **Early Life:** Son of Chandragupta Maurya, also known as Amitraghata or Amitrochates in Greek sources.\n",
      "* **Reign:** Extended the Mauryan Empire to Mysore.\n",
      "* **Notable Facts:** Appointed his son Ashoka as governor of Ujjain.\n",
      "\n",
      "**Chanakya (Kautilya)**\n",
      "\n",
      "* **Role:** Teacher and Chief Minister to Chandragupta Maurya. An influential scholar and teacher at Taxila.\n",
      "\n",
      "\n",
      "\n",
      "Overall, the speech highlights the rapid rise of the Mauryan Empire under Chandragupta Maurya, his strategic alliances, and the continuation of expansion under his son Bindusara. It also emphasizes the role of Chanakya as a key advisor and architect of the empire's success.\n",
      "\n",
      "\n",
      "This speech highlights the accomplishments of Chanakya, a prominent figure in ancient Indian history. \n",
      "\n",
      "**Key points:**\n",
      "\n",
      "* **Master Strategist:** He was instrumental in Chandragupta Maurya's rise to power and the establishment of the Mauryan Empire.\n",
      "* **Author of Arthashastra:**  This influential treatise on statecraft, economics, and military strategy was rediscovered in the 20th century.\n",
      "* **Extensive Scope:**  Arthashastra covers a wide range of topics including governance, law, diplomacy, trade, ethics, social welfare, and various economic activities.\n",
      "* **Comparison to Machiavelli:** Chanakya is often compared to Niccolò Machiavelli due to his pragmatic and sometimes ruthless approach to political power. \n",
      "\n",
      "\n",
      "Essentially, the speech emphasizes Chanakya's intellectual brilliance and his lasting impact on Indian political thought and governance. \n",
      "\u001b[0m\n",
      "\n",
      "\u001b[1m> Finished chain.\u001b[0m\n",
      "\n",
      "\u001b[1m> Finished chain.\u001b[0m\n"
     ]
    }
   ],
   "source": [
    "output_sumary=sumary_chain.run(pages)"
   ]
  },
  {
   "cell_type": "code",
   "execution_count": 32,
   "metadata": {},
   "outputs": [
    {
     "data": {
      "text/plain": [
       "\"## The Architects of an Empire: Chandragupta, Bindusara, and the Legacy of Chanakya\\n\\nThis speech delves into the captivating history of the Mauryan Empire, focusing on its foundational rulers Chandragupta Maurya and Bindusara, and the pivotal role played by their mentor, Chanakya (Kautilya). \\n\\n**Chandragupta Maurya: The Empire Builder**\\n\\n1. **Humble Origins, Mighty Rise:** Chandragupta rose from humble beginnings, possibly even the Shudra caste, to become the first emperor of the Mauryan dynasty. \\n2. **Defying Giants:** He seized power by defeating the Greek rulers who had succeeded Alexander the Great in India, and then vanquished the Nanda dynasty, establishing his own empire.\\n3. **Territorial Expansion:** Chandragupta aggressively expanded the Mauryan Empire, encompassing most of present-day India. He secured a crucial treaty with Seleucus Nicator, gaining valuable territories and a powerful army of war elephants.\\n4. **A Peaceful Exit:** In later life, Chandragupta abdicated the throne in favor of his son, Bindusara, and embraced Jainism, ultimately choosing self-starvation as his final act.\\n\\n**Bindusara: The Continuation of Conquest**\\n\\n5. **The Emperor's Son:** Bindusara, also known as Amitraghata or Amitrochates, inherited the vast Mauryan Empire from his father. \\n6. **Further Expansion:**  He continued the expansionist policies of his father, extending the empire's reach to Mysore.\\n7. **A Strategic Choice:** Bindusara appointed his son, Ashoka, as governor of Ujjain, recognizing his son's potential and preparing him for future leadership.\\n\\n**Chanakya: The Architect of Power**\\n\\n8. **Teacher and Mentor:**  Chanakya, a renowned scholar and teacher at Taxila, played a pivotal role in shaping Chandragupta's destiny. He acted as Chandragupta's teacher and Chief Minister, providing invaluable guidance and strategic expertise.\\n9. **The Arthashastra:** Chanakya is best known for his magnum opus, the Arthashastra, a treatise on statecraft, economics, and military strategy.  \\n10. **A Legacy of Influence:**  The Arthashastra's rediscovery in the 20th century has cemented Chanakya's place as a towering figure in Indian political thought. His pragmatic and sometimes ruthless approach to power has earned him comparisons with Niccolò Machiavelli.\\n\\n\\n\\nThis speech paints a vivid picture of the Mauryan Empire's rise, emphasizing the leadership of Chandragupta and Bindusara, and the indispensable role of Chanakya as the architect of their success. It highlights the enduring legacy of these historical figures and their profound impact on the course of Indian history. \\n\""
      ]
     },
     "execution_count": 32,
     "metadata": {},
     "output_type": "execute_result"
    }
   ],
   "source": [
    "output_sumary"
   ]
  },
  {
   "cell_type": "code",
   "execution_count": null,
   "metadata": {},
   "outputs": [],
   "source": []
  },
  {
   "cell_type": "code",
   "execution_count": null,
   "metadata": {},
   "outputs": [],
   "source": []
  },
  {
   "cell_type": "code",
   "execution_count": null,
   "metadata": {},
   "outputs": [],
   "source": []
  },
  {
   "cell_type": "code",
   "execution_count": null,
   "metadata": {},
   "outputs": [],
   "source": []
  },
  {
   "cell_type": "code",
   "execution_count": null,
   "metadata": {},
   "outputs": [],
   "source": []
  }
 ],
 "metadata": {
  "kernelspec": {
   "display_name": "Python 3",
   "language": "python",
   "name": "python3"
  },
  "language_info": {
   "codemirror_mode": {
    "name": "ipython",
    "version": 3
   },
   "file_extension": ".py",
   "mimetype": "text/x-python",
   "name": "python",
   "nbconvert_exporter": "python",
   "pygments_lexer": "ipython3",
   "version": "3.10.11"
  }
 },
 "nbformat": 4,
 "nbformat_minor": 2
}
